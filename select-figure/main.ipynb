{
 "cells": [
  {
   "cell_type": "code",
   "execution_count": null,
   "metadata": {},
   "outputs": [],
   "source": [
    "\"\"\"Provenance table\"\"\"\n",
    "from __future__ import absolute_import\n",
    "import os\n",
    "\n",
    "try:\n",
    "    this_dir = os.path.dirname(os.path.abspath(__file__)) + '/'\n",
    "except :\n",
    "    this_dir = ''\n",
    "\n",
    "def provenance_link(uuid, label=None):\n",
    "    \"\"\"Return representation of provenance link.\"\"\"\n",
    "    import os\n",
    "    \n",
    "    if label is None:\n",
    "        label = \"Browse provenance\\n\" + str(uuid)\n",
    "        \n",
    "    logo_url = \"https://www.materialscloud.org/discover/images/ceede967.aiida-logo-128.png\"\n",
    "    explore_url = os.getenv('EXPLORE_URL', \"https://dev-www.materialscloud.org/explore/curated-cofs\")\n",
    "    return \"<a href='{url}/details/{uuid}' target='_blank'><img src={logo_url} title='{label}' style='width: 20px;  height: auto;'></a>\"\\\n",
    "          .format(url=explore_url, uuid=str(uuid), label=label, logo_url=logo_url)\n",
    "\n",
    "def get_data_aiida():\n",
    "    \"\"\"Query the AiiDA database\"\"\"\n",
    "    from aiida import load_dbenv, is_dbenv_loaded\n",
    "    from aiida.backends import settings\n",
    "    if not is_dbenv_loaded():\n",
    "        load_dbenv(profile=settings.AIIDADB_PROFILE)\n",
    "    from aiida.orm.querybuilder import QueryBuilder\n",
    "    from aiida.orm import WorkCalculation, Node\n",
    " \n",
    "    qb = QueryBuilder()\n",
    "    qb.append(WorkCalculation, filters={ 'attributes.function_name': {'==': 'collect_outputs'} }, tag='collect')\n",
    "    qb.append(Node, project=['label', 'uuid'], edge_filters={'label': 'ref_structure'}, input_of='collect')\n",
    "    qb.append(Node, project=['uuid'], edge_filters={'label': 'opt_cif_ddec'}, input_of='collect')\n",
    "\n",
    "    return qb.all()\n",
    "\n",
    "\n",
    "def get_table(): \n",
    "    import pandas\n",
    "    pandas.set_option('max_colwidth', 1000)\n",
    "\n",
    "    # label, ref_uuid, opt_uuid \n",
    "    uuids = get_data_aiida()\n",
    "    uuid_dict = { v[0]: v[1:] for v in uuids }\n",
    "\n",
    "    df = pandas.read_csv(this_dir + \"static/cof-frameworks.csv\", delimiter=';')\n",
    "    ref_s = []\n",
    "    opt_s = []\n",
    "    for label in df['CURATED-COFs ID']:\n",
    "        try:\n",
    "            r, o = uuid_dict[label]\n",
    "            ref_s += [provenance_link(r)]\n",
    "            opt_s += [provenance_link(o)]\n",
    "        except KeyError:\n",
    "            ref_s += [None]\n",
    "            opt_s += [None]\n",
    "\n",
    "\n",
    "    df['Structure from literature'] = pandas.Series(ref_s, index=df.index)\n",
    "    df['Optimized structure (DDEC charges)'] = pandas.Series(opt_s, index=df.index)    \n",
    "    return df[ ['CURATED-COFs ID', 'Name', 'Structure from literature', 'Optimized structure (DDEC charges)' ]]"
   ]
  },
  {
   "cell_type": "code",
   "execution_count": null,
   "metadata": {},
   "outputs": [],
   "source": [
    "\"\"\"Buttons\"\"\"\n",
    "import panel as pn\n",
    "def fake_button(link, label):\n",
    "    return \"\"\"<span><a href=\"{link}\" target=\"_blank\">\n",
    "        <button class=\"bk bk-btn bk-btn-primary\" type=\"button\">{label}</button></a></span>\"\"\".format(link=link,label=label)\n",
    "\n",
    "buttons = pn.Row()\n",
    "buttons.append(fake_button(link=\"https://github.com/danieleongari/CURATED-COFs\", label=\"GitHub repository\"))\n",
    "buttons.append(fake_button(link=\"https://archive.materialscloud.org/file/2019.0034/v1/cifs_cellopt.zip\", label=\"Download CIFs\"))"
   ]
  },
  {
   "cell_type": "code",
   "execution_count": null,
   "metadata": {},
   "outputs": [],
   "source": [
    "import panel as pn\n",
    "from panel.interact import interact\n",
    "\n",
    "pn.extension()\n",
    "\n",
    "t = pn.Column()\n",
    "t.append(buttons)\n",
    "t.append(get_table().to_html(escape=False))\n",
    "t.servable()"
   ]
  }
 ],
 "metadata": {
  "kernelspec": {
   "display_name": "Python 2",
   "language": "python",
   "name": "python2"
  },
  "language_info": {
   "codemirror_mode": {
    "name": "ipython",
    "version": 2
   },
   "file_extension": ".py",
   "mimetype": "text/x-python",
   "name": "python",
   "nbconvert_exporter": "python",
   "pygments_lexer": "ipython2",
   "version": "2.7.16"
  }
 },
 "nbformat": 4,
 "nbformat_minor": 2
}
